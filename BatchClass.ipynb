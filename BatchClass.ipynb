{
 "cells": [
  {
   "cell_type": "markdown",
   "metadata": {},
   "source": [
    "## Imports and Logging"
   ]
  },
  {
   "cell_type": "code",
   "execution_count": 1,
   "metadata": {},
   "outputs": [],
   "source": [
    "import os\n",
    "import pandas as pd\n",
    "import logging as log\n",
    "import datetime as dt\n",
    "from textwrap import TextWrapper as txwr\n",
    "\n",
    "if not os.path.isdir (\"Logs\") :\n",
    "    os.mkdir (\"Logs\")\n",
    "     \n",
    "def dateFmt () :\n",
    "    \"\"\"Date component of the run log file\"\"\"\n",
    "    dtStr = str(dt.datetime.now()) \n",
    "    dtStr = dtStr[:dtStr.find('.')]\n",
    "    dtStr = dtStr.replace(' ', '_')\n",
    "    return dtStr\n",
    "\n",
    "runlog = log.getLogger (__name__)\n",
    "runlog.setLevel (log.DEBUG)\n",
    "runLogPath = \"Logs/run_{}.log\".format(dateFmt())\n",
    "fileHandler = log.FileHandler (runLogPath)\n",
    "runlog.addHandler (fileHandler)\n",
    "runlog.info(\"Batch runner started!\")"
   ]
  },
  {
   "cell_type": "code",
   "execution_count": 2,
   "metadata": {},
   "outputs": [],
   "source": [
    "def logFixFmt (fix, k=50) :\n",
    "    \"\"\"Formats error messages for the run logger\"\"\"\n",
    "    return  2*(k*\"#\" + '\\n') + txwr(width=k).fill(text=fix) + '\\n' + 2*(k*\"#\" + '\\n')\n",
    "\n",
    "def runPrelude (batchName, csv) :\n",
    "    \"\"\"Sets up files and folders and checks for existence\"\"\"\n",
    "\n",
    "    global fileHandler\n",
    "    fileHandler.setFormatter (log.Formatter (\"%(levelname)s : RUN_INIT : %(asctime)s : %(message)s\", \n",
    "                         datefmt='%m/%d/%Y %I:%M:%S %p'))\n",
    "\n",
    "    runlog.info(\"Entering prelude to create new batch!\")\n",
    "    if not os.path.isdir(\"Data\") :\n",
    "        runlog.error(\"Data folder not found!\\n\\n{}\".format(logFixFmt(\n",
    "            \"Please create a folder named 'Data' in the notebook directory and rerun!\"\n",
    "        )))\n",
    "        raise FileNotFoundError\n",
    "\n",
    "    batchPath = \"Data/{}\".format(batchName)\n",
    "    if not os.path.isdir (batchPath) :\n",
    "        runlog.error(\"Batch folder not found\\n\\n{}\".format(logFixFmt(\n",
    "            \"Please create a folder for the batch at '{}' and rerun!\".format(batchPath)\n",
    "        )))\n",
    "        raise FileNotFoundError\n",
    "\n",
    "    csvName = batchName if csv is None else csv\n",
    "    csvPath = batchPath + \"/{}\".format(csvName + \".csv\")\n",
    "    if not os.path.exists (csvPath) :\n",
    "        runlog.error(\"Batch .csv file at path '{}' not found\\n\\n{}\".format(batchPath, logFixFmt(\n",
    "            \"Please supply the name of the appropriate .csv file and rerun!\"\n",
    "        )))\n",
    "        raise FileNotFoundError\n",
    "\n",
    "    runlog.info(\"Changing log format to handle batch '{}'\".format(batchName))\n",
    "    fmtBatch = log.Formatter (\"%(levelname)s : {} : %(asctime)s : %(message)s\".format(batchName), \n",
    "                     datefmt='%m/%d/%Y %I:%M:%S %p')\n",
    "    fileHandler.setFormatter (fmtBatch)\n",
    "\n",
    "    fitsPath = os.path.join (batchPath, \"FITS\")\n",
    "    if not os.path.exists (fitsPath) :\n",
    "        os.mkdir (fitsPath)\n",
    "        runlog.info(\"Created FITS folder for batch\")\n",
    "    else :\n",
    "        runlog.info(\"FITS folder for the batch already exists\")\n",
    "        \n",
    "    if (batchlog:=Batch.logFHs[batchName]) is None :\n",
    "        batchlog = log.getLogger (batchName) \n",
    "        batchlog.setLevel (log.INFO)\n",
    "        batchHandler = log.FileHandler (os.path.join(batchPath, csvName+\".log\"))\n",
    "        batchHandler.setFormatter (log.Formatter (\"%(levelname)s : {} : %(asctime)s : %(message)s\".format(batchName), \n",
    "                                datefmt='%m/%d/%Y %I:%M:%S %p'))\n",
    "        batchlog.addHandler (batchHandler)\n",
    "        Batch.logFHs[batchName] = batchlog\n",
    "        \n",
    "        runlog.info(\"Added batch logger for this run\")\n",
    "        batchlog.info (\"Batch object created with fresh logger\")\n",
    "    else :\n",
    "        batchlog.info(\"Batch object created with existing logger\")\n",
    "        \n",
    "    runlog.info(\"Successfully created environment for batch\\n\\nMonitoring...\")\n",
    "    return csvPath"
   ]
  },
  {
   "cell_type": "markdown",
   "metadata": {},
   "source": [
    "## Batch Class"
   ]
  },
  {
   "cell_type": "code",
   "execution_count": 3,
   "metadata": {},
   "outputs": [],
   "source": [
    "class Batch () :\n",
    "    \"\"\"Class that defines a batch of SDSS objIDs on which classifcation is to be performed\"\"\"\n",
    "    \n",
    "    logFHs = {}\n",
    "    \n",
    "    def getBatch (batchName, csv=None) :\n",
    "        \"\"\"Class method to get a batch\"\"\"\n",
    "        try :\n",
    "            batch = Batch (batchName, batchName if csv is None else csv)\n",
    "        except FileNotFoundError :\n",
    "            print (\"Error initialising batch!\")\n",
    "            print(\"Kindly check the latest message in the logfile '{}' for a fix.\".format(\n",
    "                os.path.join(os.getcwd(), runLogPath)\n",
    "            ))\n",
    "            print (\"Abort!\")\n",
    "            batch = None\n",
    "        finally :\n",
    "            return batch\n",
    "    \n",
    "    def __init__ (self, batchName, csv=None) :\n",
    "        \"\"\"Initialises the batch\"\"\"\n",
    "        \n",
    "        if batchName not in Batch.logFHs :\n",
    "            Batch.logFHs[batchName] = None\n",
    "    \n",
    "        self.csvPath = runPrelude (batchName, csv)\n",
    "        self.log = Batch.logFHs[batchName]\n",
    "        self.idList = (lambda col:pd.read_csv(self.csvPath, usecols=[col])[col])(\"objID\")\n",
    "        \n",
    "        self.galaxies = {}\n",
    "        for objid in self.idList :\n",
    "            self.galaxies[objid] = None\n",
    "            \n",
    "    def downloadPhase (self) :\n",
    "        runlog.info (\"Downloading currently monitoring batch\")\n",
    "        for objid in self.idList :\n",
    "            self.log.info (\"Downloaded {}\".format(objid))\n",
    "        self.log.info (\"Downloaded batch\")\n",
    "        runlog.info (\"Downloaded currently monitoring batch\")\n",
    "        \n",
    "    @property\n",
    "    def csvName (self) :\n",
    "        \"\"\"Plain name of the csv File\"\"\"\n",
    "        return (lambda st:st[1+st.rfind('/'):st.find(\".csv\")])(self.csvPath)"
   ]
  },
  {
   "cell_type": "code",
   "execution_count": 4,
   "metadata": {},
   "outputs": [],
   "source": [
    "batch = Batch.getBatch (\"Debug\")"
   ]
  },
  {
   "cell_type": "code",
   "execution_count": 6,
   "metadata": {},
   "outputs": [],
   "source": [
    "batch.downloadPhase ()"
   ]
  }
 ],
 "metadata": {
  "kernelspec": {
   "display_name": "Python 3",
   "language": "python",
   "name": "python3"
  },
  "language_info": {
   "codemirror_mode": {
    "name": "ipython",
    "version": 3
   },
   "file_extension": ".py",
   "mimetype": "text/x-python",
   "name": "python",
   "nbconvert_exporter": "python",
   "pygments_lexer": "ipython3",
   "version": "3.8.3"
  }
 },
 "nbformat": 4,
 "nbformat_minor": 4
}
