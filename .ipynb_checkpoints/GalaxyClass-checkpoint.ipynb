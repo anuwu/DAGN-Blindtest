{
 "cells": [
  {
   "cell_type": "markdown",
   "metadata": {},
   "source": [
    "## Import Galaxy Class"
   ]
  },
  {
   "cell_type": "code",
   "execution_count": null,
   "metadata": {},
   "outputs": [],
   "source": [
    "import time\n",
    "import numpy as np\n",
    "import matplotlib.pyplot as plt\n",
    "from importlib import reload\n",
    "\n",
    "import galaxy\n",
    "Galaxy = galaxy.Galaxy"
   ]
  },
  {
   "cell_type": "markdown",
   "metadata": {},
   "source": [
    "## Reload"
   ]
  },
  {
   "cell_type": "code",
   "execution_count": null,
   "metadata": {},
   "outputs": [],
   "source": [
    "galaxy = reload (galaxy)\n",
    "Galaxy = galaxy.Galaxy"
   ]
  },
  {
   "cell_type": "markdown",
   "metadata": {},
   "source": [
    "## Instantiating and Processing Galaxy"
   ]
  },
  {
   "cell_type": "code",
   "execution_count": null,
   "metadata": {},
   "outputs": [],
   "source": [
    "# g = Galaxy (\"1237666300016591063\", (45.4351100647562,-0.592645029564019), \"Data/Gimeno/FITS\")\n",
    "# g = Galaxy (\"1237678598094454843\", (9.10362065467399,3.18410507011789), \"Data/Gimeno/FITS\")\n",
    "# g = Galaxy (\"1237661816027938877\", (203.101001427404,11.1062737819105), \"Data/Gimeno/FITS\")\n",
    "# g = Galaxy (\"1237661850396327969\", (187.063487424002,44.4531434103413), \"Data/Gimeno/FITS\")\n",
    "\n",
    "# g = Galaxy (\"1237657069549846674\",(30.5065365586213,-0.971420676455272), \"Data/Debug/FITS\")\n",
    "# g = Galaxy (\"1237663204917117312\",(6.6742735328011,0.659860073758116), \"Data/Debug/FITS\")\n",
    "# g = Galaxy (\"1237657191443464287\",(3.19495242594809,0.405602626102257), \"Data/Debug/FITS\")\n",
    "# g = Galaxy (\"1237657070091240191\",(40.7510526396255,-0.56605030730864), \"Data/Debug/FITS\")\n",
    "# g = Galaxy (\"1237656971300570004\", (9.6258023693245,-0.467882005430694), \"Data/Debug/FITS\")\n",
    "# g = Galaxy (\"1237645943979835738\", (58.4470155061742,0.878723360012781), \"Data/Debug/FITS\")\n",
    "# g = Galaxy(\"1237657070629225021\",(43.3815139132526,-0.0736075086771798), \"Data/Debug/FITS\")\n",
    "# g.download()\n",
    "g.cutout()\n",
    "g.smoothen()\n",
    "g.hullRegion()\n",
    "g.distInfo()\n",
    "g.filter()"
   ]
  },
  {
   "cell_type": "markdown",
   "metadata": {},
   "source": [
    "## Fit and cutoff"
   ]
  },
  {
   "cell_type": "code",
   "execution_count": null,
   "metadata": {},
   "outputs": [],
   "source": [
    "g.fitCutoff()\n",
    "\n",
    "b = 'r'\n",
    "gpeak, sigma, noise = g.cutoffs[b]\n",
    "\n",
    "fig, ax = plt.subplots(1, 3, gridspec_kw={'width_ratios':[1,1,1]})\n",
    "fig.set_figheight(5)\n",
    "fig.set_figwidth(15)\n",
    "\n",
    "i = 0\n",
    "\n",
    "axes = g.getGaussFit(b)\n",
    "x, y = axes[0]\n",
    "ax[i].plot (x, y, 'o', markersize=3)\n",
    "x, y = axes[1]\n",
    "ax[i].plot (x, y, 'r')\n",
    "x, y = axes[2]\n",
    "ax[i].plot (x, y, '--k')\n",
    "i += 1\n",
    "\n",
    "img = g.getHullMarked(b)\n",
    "ax[i].imshow (img)\n",
    "i += 1\n",
    "\n",
    "img[img[...,0] > noise] = np.array((255, 0, 0))\n",
    "ax[i].imshow (img)\n",
    "\n",
    "pass"
   ]
  }
 ],
 "metadata": {
  "kernelspec": {
   "display_name": "Python 3",
   "language": "python",
   "name": "python3"
  },
  "language_info": {
   "codemirror_mode": {
    "name": "ipython",
    "version": 3
   },
   "file_extension": ".py",
   "mimetype": "text/x-python",
   "name": "python",
   "nbconvert_exporter": "python",
   "pygments_lexer": "ipython3",
   "version": "3.8.3"
  }
 },
 "nbformat": 4,
 "nbformat_minor": 4
}
