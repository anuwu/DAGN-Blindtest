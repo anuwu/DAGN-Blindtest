{
 "cells": [
  {
   "cell_type": "markdown",
   "metadata": {},
   "source": [
    "## Import Galaxy Class"
   ]
  },
  {
   "cell_type": "code",
   "execution_count": 1,
   "metadata": {},
   "outputs": [],
   "source": [
    "import time\n",
    "import numpy as np\n",
    "import matplotlib.pyplot as plt\n",
    "from importlib import reload\n",
    "\n",
    "import galaxy\n",
    "Galaxy = galaxy.Galaxy"
   ]
  },
  {
   "cell_type": "markdown",
   "metadata": {},
   "source": [
    "## Reload"
   ]
  },
  {
   "cell_type": "code",
   "execution_count": null,
   "metadata": {},
   "outputs": [],
   "source": [
    "galaxy = reload (galaxy)\n",
    "Galaxy = galaxy.Galaxy"
   ]
  },
  {
   "cell_type": "markdown",
   "metadata": {},
   "source": [
    "## Instantiating and Processing Galaxy"
   ]
  },
  {
   "cell_type": "code",
   "execution_count": 2,
   "metadata": {},
   "outputs": [],
   "source": [
    "g = Galaxy(\"1237657070629225021\",(43.3815139132526,-0.0736075086771798), \"Data/Debug/FITS\", \"ri\")\n",
    "g.download()\n",
    "g.cutout()\n",
    "g.smooth()\n",
    "g.hullRegion()\n",
    "g.gradAsc()"
   ]
  },
  {
   "cell_type": "markdown",
   "metadata": {},
   "source": [
    "## Smooth Series Frequency"
   ]
  },
  {
   "cell_type": "code",
   "execution_count": 5,
   "metadata": {
    "scrolled": true
   },
   "outputs": [
    {
     "name": "stdout",
     "output_type": "stream",
     "text": [
      "[60 31 11 17 15 11 17 14 17 12 17 18 13 17 13 14 14  8  9 14  8 10 13 13\n",
      "  9 12  7  9  7 10 10  8  4 19  9 16  7  9  3  3  5  8  3 10  7  5 10  4\n",
      "  6  3  4  4  3  7  6  4 10  4  3  4  2  2  1  2  6  5  4  8  5  2  5  1\n",
      "  4  2  1  3  2  2  3  9  1  6  0  4  4  1  2  1  4  2  2  4  3  3  5  5\n",
      "  2  1  3  1  4  0  0  3  2  2  4  5  1  2  2  2  2  3  4  1  0  3  3  2\n",
      "  4  4  1  0  1  0  3  0  0  3  4  1  2  0  3  5  2  2  1  2  3  1  0  1\n",
      "  4  0  3  3  2  0  1  0  2  1  2  2  3  1  2  2  3  2  2  1  2  3  4  1\n",
      "  0  1  1  0  1  0  2  2  0  3  2  2  6  2  2  0  0  1  4  3  0  2  1  1\n",
      "  3  1  0  1  2  2  2  1  2  1  4  0  1  0  1  3  1  3  0  2  1  4  1  2\n",
      "  5  1  0  1  1  3  2  1  3  1  5  4  1  2  3  0  2  1  0  1  0  0  2  1\n",
      "  1  0  0  0  0  0  0  0  0  0  0  0  0  0  0  0]\n"
     ]
    },
    {
     "data": {
      "image/png": "[encoded data removed]",
      "text/plain": [
       "<Figure size 432x288 with 1 Axes>"
      ]
     },
     "metadata": {
      "needs_background": "light"
     },
     "output_type": "display_data"
    }
   ],
   "source": [
    "data = g.getRegSeries('r')\n",
    "uq = np.unique(data, return_counts=True)\n",
    "freq = np.zeros(256, dtype=np.uint)\n",
    "\n",
    "A = [i for i in range(0,256) if not not np.argwhere(uq[0]==i).size] #indices of freq2\n",
    "B = [uq[1][ag][0] for i in range(0,256) if not not (ag:=np.argwhere(uq[0]==i).flatten()).size]\n",
    "freq[A] = B\n",
    "\n",
    "\n",
    "print (freq)\n",
    "plt.plot (np.arange(1,10,1), freq[1:10])\n",
    "    \n",
    "pass"
   ]
  },
  {
   "cell_type": "code",
   "execution_count": null,
   "metadata": {},
   "outputs": [],
   "source": [
    "from scipy import stats\n",
    "parameters = getattr(stats, 'expon').fit(data)\n",
    "print (parameters)"
   ]
  }
 ],
 "metadata": {
  "kernelspec": {
   "display_name": "Python 3",
   "language": "python",
   "name": "python3"
  },
  "language_info": {
   "codemirror_mode": {
    "name": "ipython",
    "version": 3
   },
   "file_extension": ".py",
   "mimetype": "text/x-python",
   "name": "python",
   "nbconvert_exporter": "python",
   "pygments_lexer": "ipython3",
   "version": "3.8.3"
  }
 },
 "nbformat": 4,
 "nbformat_minor": 4
}
