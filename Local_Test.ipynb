{
 "cells": [
  {
   "cell_type": "markdown",
   "id": "669184e9",
   "metadata": {},
   "source": [
    "## Imports"
   ]
  },
  {
   "cell_type": "code",
   "execution_count": null,
   "id": "2c5efb52",
   "metadata": {},
   "outputs": [],
   "source": [
    "import os\n",
    "import numpy as np\n",
    "from importlib import reload\n",
    "import batch"
   ]
  },
  {
   "cell_type": "markdown",
   "id": "71817ef2",
   "metadata": {},
   "source": [
    "## Reload"
   ]
  },
  {
   "cell_type": "code",
   "execution_count": null,
   "id": "e9f597ad",
   "metadata": {},
   "outputs": [],
   "source": [
    "batch = reload(batch)\n",
    "Batch = batch.Batch"
   ]
  },
  {
   "cell_type": "markdown",
   "id": "f39bdedd",
   "metadata": {},
   "source": [
    "## Create Batch object"
   ]
  },
  {
   "cell_type": "code",
   "execution_count": null,
   "id": "d3d532c2",
   "metadata": {},
   "outputs": [],
   "source": [
    "batch_name = \"Gimeno\"\n",
    "batchObj = Batch.getBatch(batch_name)"
   ]
  },
  {
   "cell_type": "markdown",
   "id": "412c4143",
   "metadata": {},
   "source": [
    "## Get the galaxy"
   ]
  },
  {
   "cell_type": "code",
   "execution_count": null,
   "id": "ddc2d83f",
   "metadata": {},
   "outputs": [],
   "source": [
    "# Classify all\n",
    "batchObj.classifySerial()\n",
    "\n",
    "# Obtain individual galaxy\n",
    "# galaxy_arg = batchObj.galaxies[0]\n",
    "# csvline, progressline, g = batchObj.classifyGal(galaxy_arg)"
   ]
  },
  {
   "cell_type": "markdown",
   "id": "b441fcec",
   "metadata": {},
   "source": [
    "## Error Setup"
   ]
  },
  {
   "cell_type": "code",
   "execution_count": null,
   "id": "cff3bb05",
   "metadata": {},
   "outputs": [],
   "source": [
    "# Import Peak\n",
    "import peaks as pk\n",
    "pk = reload(pk)\n",
    "\n",
    "# Create peak object\n",
    "p = pk.Peak('r', lambda p:g.imgs['r'][p])\n",
    "\n",
    "# Setting up the error\n",
    "p.setRegion(g.hullRegs['r'], g.dists['r'].noise)\n",
    "print(\"Set the search region\")\n",
    "p.shc(lambda p : g.cutouts['r'].data[p], g.dists['r'].noiseSNR)\n",
    "print(\"Finished stochastic hill climbing\")"
   ]
  },
  {
   "cell_type": "markdown",
   "id": "96f6fb87",
   "metadata": {},
   "source": [
    "## FilterPeaks"
   ]
  },
  {
   "cell_type": "code",
   "execution_count": null,
   "id": "e456f109",
   "metadata": {},
   "outputs": [],
   "source": [
    "p.filterPeaks(tuple(np.array(g.imgs['r'].shape)//2), g.dists['r'].signal)"
   ]
  }
 ],
 "metadata": {
  "kernelspec": {
   "display_name": "Python 3 (ipykernel)",
   "language": "python",
   "name": "python3"
  },
  "language_info": {
   "codemirror_mode": {
    "name": "ipython",
    "version": 3
   },
   "file_extension": ".py",
   "mimetype": "text/x-python",
   "name": "python",
   "nbconvert_exporter": "python",
   "pygments_lexer": "ipython3",
   "version": "3.8.10"
  }
 },
 "nbformat": 4,
 "nbformat_minor": 5
}
