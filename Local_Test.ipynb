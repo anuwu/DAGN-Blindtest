{
 "cells": [
  {
   "cell_type": "code",
   "execution_count": null,
   "id": "00299f76-5005-493d-be6d-a270f8500bb5",
   "metadata": {},
   "outputs": [],
   "source": [
    "import batch\n",
    "Batch = batch.Batch\n",
    "print (\"Loaded batch module\")\n",
    "\n",
    "batch_name = \"Test\"\n",
    "batchObj = Batch.getBatch(batch_name)\n",
    "\n",
    "batchObj.classifySerial()\n",
    "batchObj.genResults()"
   ]
  }
 ],
 "metadata": {
  "kernelspec": {
   "display_name": "Python 3",
   "language": "python",
   "name": "python3"
  },
  "language_info": {
   "codemirror_mode": {
    "name": "ipython",
    "version": 3
   },
   "file_extension": ".py",
   "mimetype": "text/x-python",
   "name": "python",
   "nbconvert_exporter": "python",
   "pygments_lexer": "ipython3",
   "version": "3.9.6"
  }
 },
 "nbformat": 4,
 "nbformat_minor": 5
}
