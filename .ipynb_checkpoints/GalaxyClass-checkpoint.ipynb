{
 "cells": [
  {
   "cell_type": "markdown",
   "metadata": {},
   "source": [
    "## Import Galaxy Class"
   ]
  },
  {
   "cell_type": "code",
   "execution_count": null,
   "metadata": {},
   "outputs": [],
   "source": [
    "import time\n",
    "import numpy as np\n",
    "import matplotlib.pyplot as plt\n",
    "from importlib import reload\n",
    "\n",
    "import galaxy\n",
    "Galaxy = galaxy.Galaxy"
   ]
  },
  {
   "cell_type": "markdown",
   "metadata": {},
   "source": [
    "## Reload"
   ]
  },
  {
   "cell_type": "code",
   "execution_count": null,
   "metadata": {},
   "outputs": [],
   "source": [
    "galaxy = reload (galaxy)\n",
    "Galaxy = galaxy.Galaxy"
   ]
  },
  {
   "cell_type": "markdown",
   "metadata": {},
   "source": [
    "## Instantiating and Processing Galaxy"
   ]
  },
  {
   "cell_type": "code",
   "execution_count": null,
   "metadata": {},
   "outputs": [],
   "source": [
    "g = Galaxy (\"1237663204917117312\",(6.6742735328011,0.659860073758116), \"Data/Debug/FITS\")\n",
    "# g = Galaxy (\"1237657191443464287\",(3.19495242594809,0.405602626102257), \"Data/Debug/FITS\")\n",
    "# g = Galaxy (\"1237657070091240191\",(40.7510526396255,-0.56605030730864), \"Data/Debug/FITS\")\n",
    "# g = Galaxy (\"1237645943979835738\", (58.4470155061742,0.878723360012781), \"Data/Debug/FITS\")\n",
    "# g = Galaxy(\"1237657070629225021\",(43.3815139132526,-0.0736075086771798), \"Data/Debug/FITS\")\n",
    "# g.download()\n",
    "g.cutout()\n",
    "g.smoothen()\n",
    "g.hullRegion()\n",
    "g.setFreq()"
   ]
  },
  {
   "cell_type": "markdown",
   "metadata": {},
   "source": [
    "## Hull Region Series Frequency"
   ]
  },
  {
   "cell_type": "code",
   "execution_count": null,
   "metadata": {},
   "outputs": [],
   "source": [
    "g.freqRegs['r']"
   ]
  },
  {
   "cell_type": "code",
   "execution_count": null,
   "metadata": {},
   "outputs": [],
   "source": [
    "(lambda l=0, r=256 : plt.plot (np.arange(l,r,1), g.freqRegs['r'][l:r]))()\n",
    "pass"
   ]
  },
  {
   "cell_type": "markdown",
   "metadata": {},
   "source": [
    "## Fitting Data"
   ]
  },
  {
   "cell_type": "code",
   "execution_count": null,
   "metadata": {},
   "outputs": [],
   "source": [
    "from scipy import stats\n",
    "parameters = getattr(stats, 'rayleigh').fit(data)\n",
    "print (parameters)"
   ]
  }
 ],
 "metadata": {
  "kernelspec": {
   "display_name": "Python 3",
   "language": "python",
   "name": "python3"
  },
  "language_info": {
   "codemirror_mode": {
    "name": "ipython",
    "version": 3
   },
   "file_extension": ".py",
   "mimetype": "text/x-python",
   "name": "python",
   "nbconvert_exporter": "python",
   "pygments_lexer": "ipython3",
   "version": "3.8.3"
  }
 },
 "nbformat": 4,
 "nbformat_minor": 4
}
