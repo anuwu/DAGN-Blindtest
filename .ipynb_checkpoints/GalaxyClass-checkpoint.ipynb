{
 "cells": [
  {
   "cell_type": "markdown",
   "metadata": {},
   "source": [
    "## Imports"
   ]
  },
  {
   "cell_type": "code",
   "execution_count": null,
   "metadata": {},
   "outputs": [],
   "source": [
    "import os\n",
    "import requests\n",
    "import urllib\n",
    "import bs4\n",
    "import bz2\n",
    "import warnings\n",
    "import numpy as np\n",
    "import cv2\n",
    "\n",
    "from astropy.io import fits\n",
    "from astropy.nddata import Cutout2D\n",
    "from astropy.wcs import WCS\n",
    "from astropy.coordinates import SkyCoord, Angle, Latitude, Longitude\n",
    "from astropy import units as u\n",
    "from astropy.utils.exceptions import AstropyWarning\n",
    "from collections import OrderedDict\n",
    "\n",
    "import matplotlib.colors as colors\n",
    "\n",
    "from enum import Enum\n",
    "\n",
    "warnings.simplefilter('ignore', category=AstropyWarning)"
   ]
  },
  {
   "cell_type": "markdown",
   "metadata": {},
   "source": [
    "## GalType Class Definition"
   ]
  },
  {
   "cell_type": "code",
   "execution_count": null,
   "metadata": {},
   "outputs": [],
   "source": [
    "class GalType (Enum) :\n",
    "    (INVALID_OBJID,\n",
    "     NO_NOISE,\n",
    "     NO_PEAK,\n",
    "     SINGLE,\n",
    "     DOUBLE) = tuple(range(5))"
   ]
  },
  {
   "cell_type": "markdown",
   "metadata": {},
   "source": [
    "## Galaxy Class Definition"
   ]
  },
  {
   "cell_type": "code",
   "execution_count": null,
   "metadata": {},
   "outputs": [],
   "source": [
    "class Galaxy () :\n",
    "    \"\"\"Contains all of the galaxies info\"\"\"\n",
    "    \n",
    "    def __init__ (self, objid, cood, bands='r') :\n",
    "        \"\"\"Simple constructor. Other attributes populated with methods\"\"\"\n",
    "        \n",
    "        self.objid = objid\n",
    "        self.bands = bands\n",
    "        self.cood = cood\n",
    "        \n",
    "        self.repoLink, self.downLinks = None, []\n",
    "        self.imgs = {}\n",
    "        for b in bands :\n",
    "            self.imgs[b] = None\n",
    "        \n",
    "    def download (self, fitsFold) :\n",
    "        \"\"\"Downloads the frame for an object id\"\"\"\n",
    "        \n",
    "        def getRepoLink (objid) :    \n",
    "            link = \"http://skyserver.sdss.org/dr14/en/tools/explore/summary.aspx?objid=\" + objid\n",
    "            soup = bs4.BeautifulSoup(requests.get(link).text, features='lxml')\n",
    "            \n",
    "            # Condition for invalid link\n",
    "            if len(soup.select(\".nodatafound\")) == 1 :\n",
    "                return None, None\n",
    "    \n",
    "            tagType = type(\n",
    "                bs4.BeautifulSoup('<b class=\"boldest\">Extremely bold</b>' , features = 'lxml').b\n",
    "            )\n",
    "        \n",
    "            for c in soup.select('.s') :\n",
    "                tag = c.contents[0]\n",
    "                if tagType == type(tag) and (fitsLinkTag:=str(tag)).find('Get FITS') > -1 :\n",
    "                    break\n",
    "                    \n",
    "            fitsLinkTag = fitsLinkTag[fitsLinkTag.find('\"')+1:]\n",
    "            fitsLinkTag = fitsLinkTag[:fitsLinkTag.find('\"')].replace(\"amp;\",'')\n",
    "            return \"http://skyserver.sdss.org/dr15/en/tools/explore/\" + fitsLinkTag\n",
    "        \n",
    "        def getBandLinks (repoLink) :\n",
    "            def procClass (st) :\n",
    "                st = st[st.find('href='):]\n",
    "                st = st[st.find('\"')+1:]\n",
    "                return st[:st.find('\"')]\n",
    "            \n",
    "            return list(filter(None, \n",
    "                [(lambda s: (ch,s) if (ch:=s[s.rfind('/') + 7]) in \"ugriz\" else None)(procClass (str(x)))\n",
    "                for x in\n",
    "                bs4.BeautifulSoup(requests.get(repoLink).text, features = 'lxml').select(\".l\")[0:5]\n",
    "                ]))\n",
    "        \n",
    "        def downloadExtract (b, dlink, fitsPath) :\n",
    "            nonlocal fitsFold\n",
    "            \n",
    "            dPath = os.path.join(fitsFold, dlink[dlink.rfind('/')+1:])\n",
    "            urllib.request.urlretrieve(dlink, dPath)\n",
    "            zipf = bz2.BZ2File(dPath)\n",
    "            data = zipf.read()\n",
    "            zipf.close()\n",
    "            extractPath = dPath[:-4]\n",
    "            open(extractPath, 'wb').write(data) ;\n",
    "            os.rename(extractPath, fitsPath)\n",
    "            os.remove(dPath)\n",
    "                \n",
    "        allDown = True\n",
    "        self.fitsFold = fitsFold\n",
    "        self.getFitsPath = lambda b:os.path.join(fitsFold, \"{}-{}.fits\".format(self.objid, b))\n",
    "        for b in self.bands :\n",
    "            if not os.path.exists (self.getFitsPath(b)) :\n",
    "                allDown = False\n",
    "            \n",
    "        if allDown :\n",
    "            return\n",
    "        if self.repoLink is None :\n",
    "            self.repoLink = getRepoLink(self.objid)\n",
    "        if not self.downLinks :\n",
    "            self.downLinks = getBandLinks(self.repoLink)\n",
    "            \n",
    "        for b, dlink in self.downLinks :\n",
    "            if os.path.exists (p:=self.getFitsPath(b)) :\n",
    "                continue\n",
    "            downloadExtract (b, dlink, p)\n",
    "        \n",
    "    def cutout (self, rad) :\n",
    "        def cutout_b (fitsPath) :\n",
    "            nonlocal rad\n",
    "            \n",
    "            hdu = fits.open (fitsPath, memmap=False)[0]\n",
    "            wcs = WCS(hdu.header)    \n",
    "            position = SkyCoord(ra=Angle (self.cood[0], unit=u.deg), \n",
    "                                dec=Angle (self.cood[1], unit=u.deg))\n",
    "            size = u.Quantity ((rad, rad), u.arcsec)    \n",
    "            return Cutout2D (hdu.data, position, size, wcs=wcs).data\n",
    "        \n",
    "        for b in self.bands :\n",
    "            if self.imgs[b] is not None :\n",
    "                continue    \n",
    "            self.imgs[b]= cutout_b (self.fitsPaths[b])\n",
    "            \n",
    "            \n",
    "    def smooth (self, reduc=2, sgx=5, sgy=5) :\n",
    "        def smooth_b (img) :\n",
    "            nonlocal reduc, sgx, sgy\n",
    "            \n",
    "            img[img < 0] = 0\n",
    "            img[img >= 0] -= np.min(img[img >= 0])\n",
    "            vmax = max(0.1, np.median(img)/reduc)\n",
    "            vmax = np.max (data)\n",
    "            \n",
    "            if vmin >= vmax\n",
    "                return None\n",
    "            \n",
    "            imgNorm = colors.LogNorm(vmin, vmax, True).__call__(img)\n",
    "            imgNorm.data[imgNorm.mask] = 0\n",
    "            \n",
    "            return (lambda d:cv2.GaussianBlur(np.floor(255*(lambda x,mn,mx : (x-mn)/(mx-mn))\n",
    "                                                           (d, np.min(d), np.max(d))\n",
    "                                                    ).astype(np.uint8), (sigma_x,sigma_y),0\n",
    "                    ))(imgNorm.data)\n",
    "        \n",
    "        for b in self.bands :\n",
    "            if self.imgs[b] is None :\n",
    "                continue\n",
    "            self.imgs[b] = smooth_b(self.imgs[b])\n",
    "        "
   ]
  },
  {
   "cell_type": "markdown",
   "metadata": {},
   "source": [
    "## Getting Galaxy Object"
   ]
  },
  {
   "cell_type": "code",
   "execution_count": null,
   "metadata": {},
   "outputs": [],
   "source": [
    "g = Galaxy(\"1237666301628121372\", (47.5985276730158, 0.736603015527953), \"r\")"
   ]
  },
  {
   "cell_type": "markdown",
   "metadata": {},
   "source": [
    "## Downloading FITS"
   ]
  },
  {
   "cell_type": "code",
   "execution_count": null,
   "metadata": {},
   "outputs": [],
   "source": [
    "g.download(\"Data/Test/FITS\")"
   ]
  },
  {
   "cell_type": "markdown",
   "metadata": {},
   "source": [
    "## Cutout FITS"
   ]
  },
  {
   "cell_type": "code",
   "execution_count": null,
   "metadata": {},
   "outputs": [],
   "source": [
    "g.cutout (40)"
   ]
  }
 ],
 "metadata": {
  "kernelspec": {
   "display_name": "Python 3",
   "language": "python",
   "name": "python3"
  },
  "language_info": {
   "codemirror_mode": {
    "name": "ipython",
    "version": 3
   },
   "file_extension": ".py",
   "mimetype": "text/x-python",
   "name": "python",
   "nbconvert_exporter": "python",
   "pygments_lexer": "ipython3",
   "version": "3.8.3"
  }
 },
 "nbformat": 4,
 "nbformat_minor": 4
}
