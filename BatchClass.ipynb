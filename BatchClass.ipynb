{
 "cells": [
  {
   "cell_type": "markdown",
   "metadata": {},
   "source": [
    "## Import Batch Class"
   ]
  },
  {
   "cell_type": "code",
   "execution_count": 1,
   "metadata": {},
   "outputs": [],
   "source": [
    "import batch\n",
    "from importlib import reload\n",
    "\n",
    "batch = reload (batch)\n",
    "from batch import Batch"
   ]
  },
  {
   "cell_type": "markdown",
   "metadata": {},
   "source": [
    "## Get the batch object"
   ]
  },
  {
   "cell_type": "code",
   "execution_count": 2,
   "metadata": {},
   "outputs": [],
   "source": [
    "batchObj = Batch.getBatch (\"Test\")"
   ]
  },
  {
   "cell_type": "markdown",
   "metadata": {},
   "source": [
    "## Download Phase"
   ]
  },
  {
   "cell_type": "code",
   "execution_count": 3,
   "metadata": {},
   "outputs": [],
   "source": [
    "batchObj.downloadPhase ()"
   ]
  },
  {
   "cell_type": "markdown",
   "metadata": {},
   "source": [
    "## Processing Phase"
   ]
  },
  {
   "cell_type": "code",
   "execution_count": 4,
   "metadata": {},
   "outputs": [
    {
     "name": "stdout",
     "output_type": "stream",
     "text": [
      "(101, 101)\n",
      "(101, 101)\n",
      "(101, 101)\n",
      "(101, 101)\n",
      "(101, 101)\n",
      "(101, 101)\n",
      "(101, 101)\n",
      "(101, 101)\n",
      "(101, 101)\n",
      "(101, 101)\n"
     ]
    }
   ],
   "source": [
    "batchObj.procPhase ()"
   ]
  },
  {
   "cell_type": "code",
   "execution_count": 10,
   "metadata": {},
   "outputs": [
    {
     "name": "stdout",
     "output_type": "stream",
     "text": [
      "1237666301628121372 --> OrderedDict([((50, 50), [55, 34])])\n",
      "1237663784203518494 --> OrderedDict()\n",
      "1237663784213808575 --> OrderedDict()\n",
      "1237663783137117228 --> OrderedDict([((50, 50), [151, 5]), ((60, 16), [29, 14])])\n",
      "1237666301631201823 --> OrderedDict([((61, 64), [27, 12])])\n",
      "1237660240314958209 --> OrderedDict()\n",
      "1237657070090846627 --> OrderedDict()\n",
      "1237678617435505779 --> OrderedDict()\n",
      "1237657191443792993 --> OrderedDict([((18, 64), [26, 1]), ((31, 50), [1, 4])])\n",
      "1237663784746681156 --> OrderedDict([((3, 25), [159, 1]), ((50, 49), [68, 7])])\n"
     ]
    }
   ],
   "source": [
    "for i,g in batchObj.galaxies.items() :\n",
    "    print (i, \"-->\", g.peaks['r'])"
   ]
  }
 ],
 "metadata": {
  "kernelspec": {
   "display_name": "Python 3",
   "language": "python",
   "name": "python3"
  },
  "language_info": {
   "codemirror_mode": {
    "name": "ipython",
    "version": 3
   },
   "file_extension": ".py",
   "mimetype": "text/x-python",
   "name": "python",
   "nbconvert_exporter": "python",
   "pygments_lexer": "ipython3",
   "version": "3.8.3"
  }
 },
 "nbformat": 4,
 "nbformat_minor": 4
}
