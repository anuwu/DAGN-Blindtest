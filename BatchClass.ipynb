{
 "cells": [
  {
   "cell_type": "markdown",
   "metadata": {},
   "source": [
    "## Imports and Logging"
   ]
  },
  {
   "cell_type": "code",
   "execution_count": 1,
   "metadata": {},
   "outputs": [],
   "source": [
    "import os\n",
    "import pandas as pd\n",
    "import logging as log\n",
    "import datetime as dt\n",
    "from galaxy import Galaxy\n",
    "from textwrap import TextWrapper as txwr\n",
    "\n",
    "if not os.path.isdir (\"Logs\") :\n",
    "    os.mkdir (\"Logs\")\n",
    "     \n",
    "def dateFmt () :\n",
    "    \"\"\"Date component of the run log file\"\"\"\n",
    "    dtStr = str(dt.datetime.now()) \n",
    "    dtStr = dtStr[:dtStr.find('.')]\n",
    "    dtStr = dtStr.replace(' ', '_')\n",
    "    return dtStr\n",
    "\n",
    "runlog = log.getLogger (__name__)\n",
    "runlog.setLevel (log.DEBUG)\n",
    "runLogPath = \"Logs/run_{}.log\".format(dateFmt())\n",
    "fileHandler = log.FileHandler (runLogPath)\n",
    "runlog.addHandler (fileHandler)\n",
    "runlog.info(\"Batch runner started!\")"
   ]
  },
  {
   "cell_type": "code",
   "execution_count": 2,
   "metadata": {},
   "outputs": [],
   "source": [
    "def logFixFmt (fix, k=50) :\n",
    "    \"\"\"Formats error messages for the run logger\"\"\"\n",
    "    return  2*(k*\"#\" + '\\n') + txwr(width=k).fill(text=fix) + '\\n' + 2*(k*\"#\" + '\\n')\n",
    "\n",
    "def runPrelude (batchName, csv) :\n",
    "    \"\"\"Sets up files and folders and checks for existence\"\"\"\n",
    "\n",
    "    global fileHandler\n",
    "    fileHandler.setFormatter (log.Formatter (\"%(levelname)s : RUN_INIT : %(asctime)s : %(message)s\", \n",
    "                         datefmt='%m/%d/%Y %I:%M:%S %p'))\n",
    "\n",
    "    runlog.info(\"Entering prelude to create new batch!\")\n",
    "    if not os.path.isdir(\"Data\") :\n",
    "        runlog.error(\"Data folder not found!\\n\\n{}\".format(logFixFmt(\n",
    "            \"Please create a folder named 'Data' in the notebook directory and rerun!\"\n",
    "        )))\n",
    "        raise FileNotFoundError\n",
    "\n",
    "    batchPath = \"Data/{}\".format(batchName)\n",
    "    if not os.path.isdir (batchPath) :\n",
    "        runlog.error(\"Batch folder not found\\n\\n{}\".format(logFixFmt(\n",
    "            \"Please create a folder for the batch at '{}' and rerun!\".format(batchPath)\n",
    "        )))\n",
    "        raise FileNotFoundError\n",
    "\n",
    "    csvName = batchName if csv is None else csv\n",
    "    csvPath = batchPath + \"/{}\".format(csvName + \".csv\")\n",
    "    if not os.path.exists (csvPath) :\n",
    "        runlog.error(\"Batch .csv file at path '{}' not found\\n\\n{}\".format(batchPath, logFixFmt(\n",
    "            \"Please supply the name of the appropriate .csv file and rerun!\"\n",
    "        )))\n",
    "        raise FileNotFoundError\n",
    "\n",
    "    runlog.info(\"Changing log format to handle batch '{}'\".format(batchName))\n",
    "    fmtBatch = log.Formatter (\"%(levelname)s : {} : %(asctime)s : %(message)s\".format(batchName), \n",
    "                     datefmt='%m/%d/%Y %I:%M:%S %p')\n",
    "    fileHandler.setFormatter (fmtBatch)\n",
    "\n",
    "    fitsPath = os.path.join (batchPath, \"FITS\")\n",
    "    if not os.path.exists (fitsPath) :\n",
    "        os.mkdir (fitsPath)\n",
    "        runlog.info(\"Created FITS folder for batch\")\n",
    "    else :\n",
    "        runlog.info(\"FITS folder for the batch already exists\")\n",
    "        \n",
    "    if (batchlog:=Batch.logFHs[batchName]) is None :\n",
    "        batchlog = log.getLogger (batchName) \n",
    "        batchlog.setLevel (log.INFO)\n",
    "        batchHandler = log.FileHandler (os.path.join(batchPath, csvName+\".log\"))\n",
    "        batchHandler.setFormatter (log.Formatter (\"%(levelname)s : {} : %(asctime)s : %(message)s\".format(batchName), \n",
    "                                datefmt='%m/%d/%Y %I:%M:%S %p'))\n",
    "        batchlog.addHandler (batchHandler)\n",
    "        Batch.logFHs[batchName] = batchlog\n",
    "        \n",
    "        runlog.info(\"Added batch logger for this run\")\n",
    "        batchlog.info (\"Batch object created with fresh logger\")\n",
    "    else :\n",
    "        batchlog.info(\"Batch object created with existing logger\")\n",
    "        \n",
    "    runlog.info(\"Successfully created environment for batch\\n\\nMonitoring...\")\n",
    "    return csvPath"
   ]
  },
  {
   "cell_type": "markdown",
   "metadata": {},
   "source": [
    "## Batch Class"
   ]
  },
  {
   "cell_type": "code",
   "execution_count": 3,
   "metadata": {},
   "outputs": [],
   "source": [
    "class Batch () :\n",
    "    \"\"\"Class that defines a batch of SDSS objIDs on which classifcation is to be performed\"\"\"\n",
    "    \n",
    "    logFHs = {}\n",
    "    \n",
    "    def getBatch (batchName, csv=None) :\n",
    "        \"\"\"Class method to get a batch\"\"\"\n",
    "        try :\n",
    "            batch = Batch (batchName, batchName if csv is None else csv)\n",
    "        except FileNotFoundError :\n",
    "            print (\"Error initialising batch!\")\n",
    "            print(\"Kindly check the latest message in the logfile '{}' for a fix.\".format(\n",
    "                os.path.join(os.getcwd(), runLogPath)\n",
    "            ))\n",
    "            print (\"Abort!\")\n",
    "            batch = None\n",
    "        finally :\n",
    "            return batch\n",
    "    \n",
    "    def __init__ (self, batchName, csv=None) :\n",
    "        \"\"\"Constructor for the batch. Fills galaxy dictionary and gets the batch logger\"\"\"\n",
    "        \n",
    "        if batchName not in Batch.logFHs :\n",
    "            Batch.logFHs[batchName] = None\n",
    "    \n",
    "        self.csvPath = runPrelude (batchName, csv)\n",
    "        self.log = Batch.logFHs[batchName]\n",
    "        self.idList = list(map(lambda x:str(x), \n",
    "                               (lambda col:pd.read_csv(self.csvPath, usecols=[col])[col])(\"objID\")\n",
    "                            ))\n",
    "        \n",
    "        self.galaxies = {}\n",
    "        for objid in self.idList :\n",
    "            self.galaxies[objid] = Galaxy(objid)\n",
    "            \n",
    "    def downloadPhase (self) :\n",
    "        runlog.info (\"Downloading currently monitoring batch\")\n",
    "        for objid in self.idList :\n",
    "            self.log.info (\"Downloaded {}\".format(objid))\n",
    "        self.log.info (\"Downloaded batch\")\n",
    "        runlog.info (\"Downloaded currently monitoring batch\")\n",
    "        \n",
    "    @property\n",
    "    def csvName (self) :\n",
    "        \"\"\"Plain name of the csv File\"\"\"\n",
    "        return (lambda st:st[1+st.rfind('/'):st.find(\".csv\")])(self.csvPath)"
   ]
  },
  {
   "cell_type": "code",
   "execution_count": 4,
   "metadata": {},
   "outputs": [],
   "source": [
    "batch = Batch.getBatch (\"Debug\")"
   ]
  },
  {
   "cell_type": "code",
   "execution_count": 5,
   "metadata": {},
   "outputs": [],
   "source": [
    "batch.downloadPhase ()"
   ]
  },
  {
   "cell_type": "code",
   "execution_count": 6,
   "metadata": {},
   "outputs": [
    {
     "name": "stdout",
     "output_type": "stream",
     "text": [
      "{'1237645943979835738': <galaxy.Galaxy object at 0x7f721c5ec2b0>, '1237646587163968176': <galaxy.Galaxy object at 0x7f721c5ec040>, '1237656971300570004': <galaxy.Galaxy object at 0x7f721c5ec550>, '1237656971300635408': <galaxy.Galaxy object at 0x7f721c5ec280>, '1237657069548798132': <galaxy.Galaxy object at 0x7f71f5e8f520>, '1237657069549846674': <galaxy.Galaxy object at 0x7f71f5e8f490>, '1237657070087503975': <galaxy.Galaxy object at 0x7f71f5e8f8e0>, '1237657070088618226': <galaxy.Galaxy object at 0x7f71f5e8f400>, '1237657070089863355': <galaxy.Galaxy object at 0x7f71f5e8f2e0>, '1237657070091240191': <galaxy.Galaxy object at 0x7f71f5e8f4f0>, '1237657070092747032': <galaxy.Galaxy object at 0x7f71f5e8f4c0>, '1237657070620509216': <galaxy.Galaxy object at 0x7f71f5e8f7f0>, '1237657070628110786': <galaxy.Galaxy object at 0x7f71f5e8f850>, '1237657070628241730': <galaxy.Galaxy object at 0x7f71f5e8f820>, '1237657070628766220': <galaxy.Galaxy object at 0x7f71f5e8f880>, '1237657070629225021': <galaxy.Galaxy object at 0x7f71f5e8f910>, '1237657071156659187': <galaxy.Galaxy object at 0x7f71f5e8f670>, '1237657071157576846': <galaxy.Galaxy object at 0x7f71f5e8f9a0>, '1237657071157707507': <galaxy.Galaxy object at 0x7f71f5e8fa90>, '1237657071157838646': <galaxy.Galaxy object at 0x7f71f5e8faf0>, '1237657071159608200': <galaxy.Galaxy object at 0x7f71f5e8fb50>, '1237657071693922927': <galaxy.Galaxy object at 0x7f71f5e8f8b0>, '1237657071695495282': <galaxy.Galaxy object at 0x7f71f5e8f970>, '1237657071695692459': <galaxy.Galaxy object at 0x7f71f5e8fa60>, '1237657071696020589': <galaxy.Galaxy object at 0x7f71f5e8fd60>, '1237657072231776600': <galaxy.Galaxy object at 0x7f71f5e8fe20>, '1237657189831607033': <galaxy.Galaxy object at 0x7f71f5e8fb80>, '1237657189832262594': <galaxy.Galaxy object at 0x7f71f5e8fc70>, '1237657189835801633': <galaxy.Galaxy object at 0x7f71f5e8fee0>, '1237657189836456346': <galaxy.Galaxy object at 0x7f71f5e8ff70>, '1237657190370312976': <galaxy.Galaxy object at 0x7f71f5e8fdc0>, '1237657190370509453': <galaxy.Galaxy object at 0x7f71f5e8feb0>, '1237657190370771320': <galaxy.Galaxy object at 0x7f71f5e8ffa0>, '1237657190371099551': <galaxy.Galaxy object at 0x7f71f5e8ff40>, '1237657190371361655': <galaxy.Galaxy object at 0x7f71f5e8ff10>, '1237657190371885241': <galaxy.Galaxy object at 0x7f71f5e8f550>, '1237657190906724767': <galaxy.Galaxy object at 0x7f71f5e8f610>, '1237657190909280922': <galaxy.Galaxy object at 0x7f71f5e8f580>, '1237657191443464287': <galaxy.Galaxy object at 0x7f721c5e9220>, '1237657191444382977': <galaxy.Galaxy object at 0x7f721c5e90a0>, '1237657191446873000': <galaxy.Galaxy object at 0x7f721c5e9100>, '1237657191447462392': <galaxy.Galaxy object at 0x7f721c5e9340>, '1237657191447724420': <galaxy.Galaxy object at 0x7f721c5e9370>, '1237657191981187970': <galaxy.Galaxy object at 0x7f721c5e90d0>, '1237657192516288989': <galaxy.Galaxy object at 0x7f721c5e9460>, '1237657586029495366': <galaxy.Galaxy object at 0x7f721c5e9490>, '1237657587097207891': <galaxy.Galaxy object at 0x7f721c5e94c0>, '1237660024523129279': <galaxy.Galaxy object at 0x7f721c5e9190>, '1237660240313189398': <galaxy.Galaxy object at 0x7f721c5e93d0>, '1237660240314041085': <galaxy.Galaxy object at 0x7f721c5e96d0>, '1237660240315154527': <galaxy.Galaxy object at 0x7f721c5e96a0>, '1237660241387520325': <galaxy.Galaxy object at 0x7f721c5e9760>, '1237660241387783120': <galaxy.Galaxy object at 0x7f721c5e9a00>, '1237660241926292180': <galaxy.Galaxy object at 0x7f721c5e9850>, '1237663204917117312': <galaxy.Galaxy object at 0x7f721c5e9940>, '1237663204918427803': <galaxy.Galaxy object at 0x7f721c5e97c0>, '1237663237123145815': <galaxy.Galaxy object at 0x7f721c5e9610>, '1237663238203966597': <galaxy.Galaxy object at 0x7f721c5e98b0>, '1237663275781587151': <galaxy.Galaxy object at 0x7f721c5e9040>, '1237663277928088639': <galaxy.Galaxy object at 0x7f721c5e9d60>, '1237663278465482762': <galaxy.Galaxy object at 0x7f721c5e9ca0>, '1237663782598410577': <galaxy.Galaxy object at 0x7f721c5e9c70>, '1237663783130694009': <galaxy.Galaxy object at 0x7f721c5e9580>, '1237663784748057108': <galaxy.Galaxy object at 0x7f721c5e98e0>, '1237663784750809445': <galaxy.Galaxy object at 0x7f721c5e9a30>, '1237663785277522376': <galaxy.Galaxy object at 0x7f721c5e97f0>, '1237666299481424506': <galaxy.Galaxy object at 0x7f721c5e9a90>, '1237666300019933843': <galaxy.Galaxy object at 0x7f721c5e9c10>, '1237666302167941596': <galaxy.Galaxy object at 0x7f721c5e9be0>, '1237666302169645560': <galaxy.Galaxy object at 0x7f721c5e92e0>, '1237678437016142477': <galaxy.Galaxy object at 0x7f721c5e9dc0>, '1237678617437405659': <galaxy.Galaxy object at 0x7f721c5e95b0>}\n"
     ]
    }
   ],
   "source": [
    "print (batch.galaxies)"
   ]
  }
 ],
 "metadata": {
  "kernelspec": {
   "display_name": "Python 3",
   "language": "python",
   "name": "python3"
  },
  "language_info": {
   "codemirror_mode": {
    "name": "ipython",
    "version": 3
   },
   "file_extension": ".py",
   "mimetype": "text/x-python",
   "name": "python",
   "nbconvert_exporter": "python",
   "pygments_lexer": "ipython3",
   "version": "3.8.3"
  }
 },
 "nbformat": 4,
 "nbformat_minor": 4
}
