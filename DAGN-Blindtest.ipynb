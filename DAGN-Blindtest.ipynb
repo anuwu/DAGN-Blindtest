{
  "nbformat": 4,
  "nbformat_minor": 0,
  "metadata": {
    "kernelspec": {
      "name": "python3",
      "display_name": "Python 3"
    },
    "language_info": {
      "codemirror_mode": {
        "name": "ipython",
        "version": 3
      },
      "file_extension": ".py",
      "mimetype": "text/x-python",
      "name": "python",
      "nbconvert_exporter": "python",
      "pygments_lexer": "ipython3",
      "version": "3.7.3"
    },
    "colab": {
      "name": "DAGN-Blindtest.ipynb",
      "provenance": [],
      "private_outputs": true,
      "collapsed_sections": [],
      "machine_shape": "hm"
    }
  },
  "cells": [
    {
      "cell_type": "markdown",
      "metadata": {
        "id": "view-in-github"
      },
      "source": [
        "<a href=\"https://colab.research.google.com/github/anwesh0304/DAGN-Blindtest/blob/master/blindtest.ipynb\" target=\"_parent\"><img src=\"https://colab.research.google.com/assets/colab-badge.svg\" alt=\"Open In Colab\"/></a>"
      ]
    },
    {
      "cell_type": "markdown",
      "metadata": {
        "id": "1VTO6oYCmzW6"
      },
      "source": [
        "#**Welcome to the SDSS Double Nuclei Detection Pipeline**\n",
        "\n",
        "*Author : Anwesh Bhattacharya, E-mail : f2016590@pilani.bits-pilani.ac.in*\n",
        "\n",
        "Welcome to the pipeline detection software. \n",
        "\n",
        "The pipeline basically needs a .csv file containing SDSS `objID, ra, dec` of galaxies to run. It works in several phases which are explained in their respective cells below\n",
        "\n",
        "Query on CasJobs and input your own .csv file to this pipeline. To join the effort of finding dual AGN candidates, please send an email to **dagn2020iia@gmail.com** with your SciServer username, and I shall add you to the **AstrIRG_DAGN** group.\n",
        "\n",
        "For more information, check out the readme at the GitHub repository https://github.com/anwesh0304/DAGN-Blindtest\n"
      ]
    },
    {
      "cell_type": "markdown",
      "metadata": {
        "id": "nKUy5QLuziq7"
      },
      "source": [
        "#**Preparations**\n",
        "\n",
        "Ensure that you have a folder named `Data` in the directory where this notebook is present\n",
        "\n",
        "Prevent Google Colab from disconnecting by doing the following -\n",
        "\n",
        "1. Press Ctrl + Shift + I to open the console.\n",
        "2. Paste the code in the consle and press enter.\n",
        "3. Close the console\n",
        "\n",
        "```\n",
        "function ClickConnect(){\n",
        "console.log(\"Working\"); \n",
        "document.querySelector(\"colab-toolbar-button#connect\").click() \n",
        "}\n",
        "setInterval(ClickConnect,60000)\n",
        "```\n",
        "\n",
        "\n",
        "This will click the running window every 60 seconds and prevent Google Colab from disconnecting automatically.\n",
        "\n",
        "**You're done! Now run the following cells in order one at a time**"
      ]
    },
    {
      "cell_type": "markdown",
      "metadata": {
        "id": "NCqsukjYU2Se"
      },
      "source": [
        "#**Mount Google Drive**\n",
        "\n",
        "The first time this is done, you'll need to give permission to access the drive. \n"
      ]
    },
    {
      "cell_type": "code",
      "metadata": {
        "id": "ksBL6ZUoNg2J"
      },
      "source": [
        "from google.colab import drive\n",
        "drive_root = \"/content/drive\"\n",
        "drive.mount(drive_root, force_remount=True)"
      ],
      "execution_count": null,
      "outputs": []
    },
    {
      "cell_type": "markdown",
      "metadata": {
        "id": "bm3-MntNVAOU"
      },
      "source": [
        "#**Input the Directory where source files are present**\n",
        "\n",
        "Enter the path of the source files relative to your google drive\n",
        "\n",
        "If the source code is in `Work/Source`, then please enter `Work/Source` in the form (**without quotes**).\n",
        "\n"
      ]
    },
    {
      "cell_type": "code",
      "metadata": {
        "id": "Ju8aZvu8NYc_"
      },
      "source": [
        "import os\n",
        "\n",
        "reldir = 'DAGN/DAGN-Blindtest-v2' #@param {type:\"string\"}\n",
        "my_drive = drive_root + \"/My Drive\"\n",
        "dirr = my_drive + \"/\" + reldir\n",
        "try :\n",
        "  os.chdir(dirr)\n",
        "  print (\"Loaded source directory\")\n",
        "except Exception as e :\n",
        "  print (\"Error in loading source directory\")\n",
        "  print (\"Please check exception message for details - \\n{}\".format(e))"
      ],
      "execution_count": null,
      "outputs": []
    },
    {
      "cell_type": "markdown",
      "metadata": {
        "id": "igXBBemP13pB"
      },
      "source": [
        "#**Import the classification module**"
      ]
    },
    {
      "cell_type": "code",
      "metadata": {
        "id": "BuE2CibF2IOI"
      },
      "source": [
        "import batch\n",
        "Batch = batch.Batch\n",
        "\n",
        "print(\"Loaded Batch module\")"
      ],
      "execution_count": null,
      "outputs": []
    },
    {
      "cell_type": "markdown",
      "metadata": {
        "id": "W7hP7Q-DVXsZ"
      },
      "source": [
        "#**Initialise the Classifier**\n",
        "\n",
        "Enter the name of the folder containing the .csv file for classification. This folder must be present in the folder named `Batches` of the notebook directory. All data will be stored here.\n",
        "\n",
        "The output of the classification will be stored in a .csv file named `Mybatch_result.csv` if the name of your batch is `Mybatch`"
      ]
    },
    {
      "cell_type": "code",
      "metadata": {
        "id": "rnH3lqJANYdE",
        "cellView": "both"
      },
      "source": [
        "batch_name = 'BlindDebug1' #@param {type:\"string\"}\n",
        "batchObj = Batch.getBatch(batch_name)"
      ],
      "execution_count": null,
      "outputs": []
    },
    {
      "cell_type": "markdown",
      "metadata": {
        "id": "Nffwu4yG9fRf"
      },
      "source": [
        "#**Classify the batch**\n",
        "\n",
        "Please be patient for the first few results to appear, especially if there are FITS files remaining to be downloaded in the batch"
      ]
    },
    {
      "cell_type": "code",
      "metadata": {
        "id": "XnmYHc6b9eew"
      },
      "source": [
        "batchObj.classifyBatch()"
      ],
      "execution_count": null,
      "outputs": []
    },
    {
      "cell_type": "markdown",
      "metadata": {
        "id": "cIT34fHFnHz_"
      },
      "source": [
        "#**Generate the results**\n",
        "\n",
        "Save the result plots to drive"
      ]
    },
    {
      "cell_type": "code",
      "metadata": {
        "id": "6_WfwwctnJ3E"
      },
      "source": [
        "batchObj.genResults()"
      ],
      "execution_count": null,
      "outputs": []
    }
  ]
}