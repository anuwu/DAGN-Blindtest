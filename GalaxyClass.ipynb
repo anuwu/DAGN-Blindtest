{
 "cells": [
  {
   "cell_type": "code",
   "execution_count": 1,
   "metadata": {},
   "outputs": [],
   "source": [
    "class Galaxy () :\n",
    "    \"\"\"Contains all of the galaxies info\"\"\"\n",
    "    \n",
    "    def __init__ (self, objid) :\n",
    "        \"\"\"Simple constructor. Other attributes populated with methods\"\"\"\n",
    "        self.objid = objid"
   ]
  }
 ],
 "metadata": {
  "kernelspec": {
   "display_name": "Python 3",
   "language": "python",
   "name": "python3"
  },
  "language_info": {
   "codemirror_mode": {
    "name": "ipython",
    "version": 3
   },
   "file_extension": ".py",
   "mimetype": "text/x-python",
   "name": "python",
   "nbconvert_exporter": "python",
   "pygments_lexer": "ipython3",
   "version": "3.8.3"
  }
 },
 "nbformat": 4,
 "nbformat_minor": 4
}
